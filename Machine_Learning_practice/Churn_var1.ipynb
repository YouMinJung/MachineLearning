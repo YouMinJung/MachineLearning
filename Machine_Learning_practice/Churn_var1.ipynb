{
 "cells": [
  {
   "cell_type": "markdown",
   "metadata": {},
   "source": [
    "# 목표 : 고객의 이탈 여부를 파악\n",
    "- 이탈 유, 무의 변수 : churn 변수"
   ]
  },
  {
   "cell_type": "code",
   "execution_count": 4,
   "metadata": {
    "collapsed": true
   },
   "outputs": [],
   "source": [
    "# load dataset\n",
    "import pandas as pd\n",
    "\n",
    "churn_train = pd.read_csv(\"./data/Churn_Dataset/train.csv\")\n",
    "churn_test = pd.read_csv(\"./data/Churn_Dataset/test.csv\")"
   ]
  },
  {
   "cell_type": "code",
   "execution_count": 5,
   "metadata": {},
   "outputs": [
    {
     "data": {
      "text/plain": [
       "(3333, 20)"
      ]
     },
     "execution_count": 5,
     "metadata": {},
     "output_type": "execute_result"
    }
   ],
   "source": [
    "# train data size\n",
    "churn_train.shape"
   ]
  },
  {
   "cell_type": "code",
   "execution_count": 6,
   "metadata": {},
   "outputs": [
    {
     "data": {
      "text/plain": [
       "Index(['state', 'account_length', 'area_code', 'international_plan',\n",
       "       'voice_mail_plan', 'number_vmail_messages', 'total_day_minutes',\n",
       "       'total_day_calls', 'total_day_charge', 'total_eve_minutes',\n",
       "       'total_eve_calls', 'total_eve_charge', 'total_night_minutes',\n",
       "       'total_night_calls', 'total_night_charge', 'total_intl_minutes',\n",
       "       'total_intl_calls', 'total_intl_charge',\n",
       "       'number_customer_service_calls', 'churn'],\n",
       "      dtype='object')"
      ]
     },
     "execution_count": 6,
     "metadata": {},
     "output_type": "execute_result"
    }
   ],
   "source": [
    "# train value list\n",
    "churn_train.columns"
   ]
  },
  {
   "cell_type": "code",
   "execution_count": 7,
   "metadata": {},
   "outputs": [
    {
     "data": {
      "text/plain": [
       "(1667, 20)"
      ]
     },
     "execution_count": 7,
     "metadata": {},
     "output_type": "execute_result"
    }
   ],
   "source": [
    "# test data size\n",
    "churn_test.shape"
   ]
  },
  {
   "cell_type": "code",
   "execution_count": 8,
   "metadata": {},
   "outputs": [
    {
     "data": {
      "text/plain": [
       "Index(['state', 'account_length', 'area_code', 'international_plan',\n",
       "       'voice_mail_plan', 'number_vmail_messages', 'total_day_minutes',\n",
       "       'total_day_calls', 'total_day_charge', 'total_eve_minutes',\n",
       "       'total_eve_calls', 'total_eve_charge', 'total_night_minutes',\n",
       "       'total_night_calls', 'total_night_charge', 'total_intl_minutes',\n",
       "       'total_intl_calls', 'total_intl_charge',\n",
       "       'number_customer_service_calls', 'churn'],\n",
       "      dtype='object')"
      ]
     },
     "execution_count": 8,
     "metadata": {},
     "output_type": "execute_result"
    }
   ],
   "source": [
    "# test value list\n",
    "churn_test.columns"
   ]
  },
  {
   "cell_type": "markdown",
   "metadata": {},
   "source": [
    "=> test와 train data size가 이미 1:3 정도 이므로 굳이 dataset을 나눌필요가 없어 보인다."
   ]
  },
  {
   "cell_type": "markdown",
   "metadata": {},
   "source": [
    "=> Train과 Test Dataset의 columns는 같으며, churn value를 예측해야함\n",
    "\n",
    "=> 각각의 value들의 구성값은 다음과 같다."
   ]
  },
  {
   "cell_type": "code",
   "execution_count": 9,
   "metadata": {},
   "outputs": [
    {
     "data": {
      "text/plain": [
       "array(['KS', 'OH', 'NJ', 'OK', 'AL', 'MA', 'MO', 'LA', 'WV', 'IN', 'RI',\n",
       "       'IA', 'MT', 'NY', 'ID', 'VT', 'VA', 'TX', 'FL', 'CO', 'AZ', 'SC',\n",
       "       'NE', 'WY', 'HI', 'IL', 'NH', 'GA', 'AK', 'MD', 'AR', 'WI', 'OR',\n",
       "       'MI', 'DE', 'UT', 'CA', 'MN', 'SD', 'NC', 'WA', 'NM', 'NV', 'DC',\n",
       "       'KY', 'ME', 'MS', 'TN', 'PA', 'CT', 'ND'], dtype=object)"
      ]
     },
     "execution_count": 9,
     "metadata": {},
     "output_type": "execute_result"
    }
   ],
   "source": [
    "churn_train['state'].unique()"
   ]
  },
  {
   "cell_type": "code",
   "execution_count": 10,
   "metadata": {},
   "outputs": [
    {
     "data": {
      "text/plain": [
       "array([128, 107, 137,  84,  75, 118, 121, 147, 117, 141,  65,  74, 168,\n",
       "        95,  62, 161,  85,  93,  76,  73,  77, 130, 111, 132, 174,  57,\n",
       "        54,  20,  49, 142, 172,  12,  72,  36,  78, 136, 149,  98, 135,\n",
       "        34, 160,  64,  59, 119,  97,  52,  60,  10,  96,  87,  81,  68,\n",
       "       125, 116,  38,  40,  43, 113, 126, 150, 138, 162,  90,  50,  82,\n",
       "       144,  46,  70,  55, 106,  94, 155,  80, 104,  99, 120, 108, 122,\n",
       "       157, 103,  63, 112,  41, 193,  61,  92, 131, 163,  91, 127, 110,\n",
       "       140,  83, 145,  56, 151, 139,   6, 115, 146, 185, 148,  32,  25,\n",
       "       179,  67,  19, 170, 164,  51, 208,  53, 105,  66,  86,  35,  88,\n",
       "       123,  45, 100, 215,  22,  33, 114,  24, 101, 143,  48,  71, 167,\n",
       "        89, 199, 166, 158, 196, 209,  16,  39, 173, 129,  44,  79,  31,\n",
       "       124,  37, 159, 194, 154,  21, 133, 224,  58,  11, 109, 102, 165,\n",
       "        18,  30, 176,  47, 190, 152,  26,  69, 186, 171,  28, 153, 169,\n",
       "        13,  27,   3,  42, 189, 156, 134, 243,  23,   1, 205, 200,   5,\n",
       "         9, 178, 181, 182, 217, 177, 210,  29, 180,   2,  17,   7, 212,\n",
       "       232, 192, 195, 197, 225, 184, 191, 201,  15, 183, 202,   8, 175,\n",
       "         4, 188, 204, 221], dtype=int64)"
      ]
     },
     "execution_count": 10,
     "metadata": {},
     "output_type": "execute_result"
    }
   ],
   "source": [
    "churn_train['account_length'].unique()"
   ]
  },
  {
   "cell_type": "code",
   "execution_count": 11,
   "metadata": {},
   "outputs": [
    {
     "data": {
      "text/plain": [
       "array(['area_code_415', 'area_code_408', 'area_code_510'], dtype=object)"
      ]
     },
     "execution_count": 11,
     "metadata": {},
     "output_type": "execute_result"
    }
   ],
   "source": [
    "churn_train['area_code'].unique()"
   ]
  },
  {
   "cell_type": "code",
   "execution_count": 12,
   "metadata": {},
   "outputs": [
    {
     "data": {
      "text/plain": [
       "array(['no', 'yes'], dtype=object)"
      ]
     },
     "execution_count": 12,
     "metadata": {},
     "output_type": "execute_result"
    }
   ],
   "source": [
    "churn_train['international_plan'].unique()"
   ]
  },
  {
   "cell_type": "code",
   "execution_count": 13,
   "metadata": {},
   "outputs": [
    {
     "data": {
      "text/plain": [
       "array(['yes', 'no'], dtype=object)"
      ]
     },
     "execution_count": 13,
     "metadata": {},
     "output_type": "execute_result"
    }
   ],
   "source": [
    "churn_train['voice_mail_plan'].unique()"
   ]
  },
  {
   "cell_type": "code",
   "execution_count": 14,
   "metadata": {},
   "outputs": [
    {
     "data": {
      "text/plain": [
       "array([25, 26,  0, 24, 37, 27, 33, 39, 30, 41, 28, 34, 46, 29, 35, 21, 32,\n",
       "       42, 36, 22, 23, 43, 31, 38, 40, 48, 18, 17, 45, 16, 20, 14, 19, 51,\n",
       "       15, 11, 12, 47,  8, 44, 49,  4, 10, 13, 50,  9], dtype=int64)"
      ]
     },
     "execution_count": 14,
     "metadata": {},
     "output_type": "execute_result"
    }
   ],
   "source": [
    "churn_train['number_vmail_messages'].unique()"
   ]
  },
  {
   "cell_type": "code",
   "execution_count": 15,
   "metadata": {},
   "outputs": [
    {
     "data": {
      "text/plain": [
       "array([ 265.1,  161.6,  243.4, ...,  321.1,  231.1,  180.8])"
      ]
     },
     "execution_count": 15,
     "metadata": {},
     "output_type": "execute_result"
    }
   ],
   "source": [
    "churn_train['total_day_minutes'].unique()"
   ]
  },
  {
   "cell_type": "code",
   "execution_count": 16,
   "metadata": {},
   "outputs": [
    {
     "data": {
      "text/plain": [
       "array([110, 123, 114,  71, 113,  98,  88,  79,  97,  84, 137, 127,  96,\n",
       "        70,  67, 139,  66,  90, 117,  89, 112, 103,  86,  76, 115,  73,\n",
       "       109,  95, 105, 121, 118,  94,  80, 128,  64, 106, 102,  85,  82,\n",
       "        77, 120, 133, 135, 108,  57,  83, 129,  91,  92,  74,  93, 101,\n",
       "       146,  72,  99, 104, 125,  61, 100,  87, 131,  65, 124, 119,  52,\n",
       "        68, 107,  47, 116, 151, 126, 122, 111, 145,  78, 136, 140, 148,\n",
       "        81,  55,  69, 158, 134, 130,  63,  53,  75, 141, 163,  59, 132,\n",
       "       138,  54,  58,  62, 144, 143, 147,  36,  40, 150,  56,  51, 165,\n",
       "        30,  48,  60,  42,   0,  45, 160, 149, 152, 142, 156,  35,  49,\n",
       "       157,  44], dtype=int64)"
      ]
     },
     "execution_count": 16,
     "metadata": {},
     "output_type": "execute_result"
    }
   ],
   "source": [
    "churn_train['total_day_calls'].unique()"
   ]
  },
  {
   "cell_type": "code",
   "execution_count": 17,
   "metadata": {},
   "outputs": [
    {
     "data": {
      "text/plain": [
       "array([ 45.07,  27.47,  41.38, ...,  54.59,  39.29,  30.74])"
      ]
     },
     "execution_count": 17,
     "metadata": {},
     "output_type": "execute_result"
    }
   ],
   "source": [
    "churn_train['total_day_charge'].unique()"
   ]
  },
  {
   "cell_type": "code",
   "execution_count": 18,
   "metadata": {},
   "outputs": [
    {
     "data": {
      "text/plain": [
       "array([ 197.4,  195.5,  121.2, ...,  153.4,  288.8,  265.9])"
      ]
     },
     "execution_count": 18,
     "metadata": {},
     "output_type": "execute_result"
    }
   ],
   "source": [
    "churn_train['total_eve_minutes'].unique()"
   ]
  },
  {
   "cell_type": "code",
   "execution_count": 19,
   "metadata": {},
   "outputs": [
    {
     "data": {
      "text/plain": [
       "array([ 99, 103, 110,  88, 122, 101, 108,  94,  80, 111,  83, 148,  71,\n",
       "        75,  76,  97,  90,  65,  93, 121, 102,  72, 112, 100,  84, 109,\n",
       "        63, 107, 115, 119, 116,  92,  85,  98, 118,  74, 117,  58,  96,\n",
       "        66,  67,  62,  77, 164, 126, 142,  64, 104,  79,  95,  86, 105,\n",
       "        81, 113, 106,  59,  48,  82,  87, 123, 114, 140, 128,  60,  78,\n",
       "       125,  91,  46, 138, 129,  89, 133, 136,  57, 135, 139,  51,  70,\n",
       "       151, 137, 134,  73, 152, 168,  68, 120,  69, 127, 132, 143,  61,\n",
       "       124,  42,  54, 131,  52, 149,  56,  37, 130,  49, 146, 147,  55,\n",
       "        12,  50, 157, 155,  45, 144,  36, 156,  53, 141,  44, 153, 154,\n",
       "       150,  43,   0, 145, 159, 170], dtype=int64)"
      ]
     },
     "execution_count": 19,
     "metadata": {},
     "output_type": "execute_result"
    }
   ],
   "source": [
    "churn_train['total_eve_calls'].unique()"
   ]
  },
  {
   "cell_type": "code",
   "execution_count": 20,
   "metadata": {},
   "outputs": [
    {
     "data": {
      "text/plain": [
       "array([ 16.78,  16.62,  10.3 , ...,  13.04,  24.55,  22.6 ])"
      ]
     },
     "execution_count": 20,
     "metadata": {},
     "output_type": "execute_result"
    }
   ],
   "source": [
    "churn_train['total_eve_charge'].unique()"
   ]
  },
  {
   "cell_type": "code",
   "execution_count": 21,
   "metadata": {},
   "outputs": [
    {
     "data": {
      "text/plain": [
       "array([ 244.7,  254.4,  162.6, ...,  280.9,  120.1,  279.1])"
      ]
     },
     "execution_count": 21,
     "metadata": {},
     "output_type": "execute_result"
    }
   ],
   "source": [
    "churn_train['total_night_minutes'].unique()"
   ]
  },
  {
   "cell_type": "code",
   "execution_count": 22,
   "metadata": {},
   "outputs": [
    {
     "data": {
      "text/plain": [
       "array([ 91, 103, 104,  89, 121, 118,  96,  90,  97, 111,  94, 128, 115,\n",
       "        99,  75, 108,  74, 133,  64,  78, 105,  68, 102, 148,  98, 116,\n",
       "        71, 109, 107, 135,  92,  86, 127,  79,  87, 129,  57,  77,  95,\n",
       "        54, 106,  53,  67, 139,  60, 100,  61,  73, 113,  76, 119,  88,\n",
       "        84,  62, 137,  72, 142, 114, 126, 122,  81, 123, 117,  82,  80,\n",
       "       120, 130, 134,  59, 112, 132, 110, 101, 150,  69, 131,  83,  93,\n",
       "       124, 136, 125,  66, 143,  58,  55,  85,  56,  70,  46,  42, 152,\n",
       "        44, 145,  50, 153,  49, 175,  63, 138, 154, 140, 141, 146,  65,\n",
       "        51, 151, 158, 155, 157, 147, 144, 149, 166,  52,  33, 156,  38,\n",
       "        36,  48, 164], dtype=int64)"
      ]
     },
     "execution_count": 22,
     "metadata": {},
     "output_type": "execute_result"
    }
   ],
   "source": [
    "churn_train['total_night_calls'].unique()"
   ]
  },
  {
   "cell_type": "code",
   "execution_count": 23,
   "metadata": {},
   "outputs": [
    {
     "data": {
      "text/plain": [
       "array([ 11.01,  11.45,   7.32,   8.86,   8.41,   9.18,   9.57,   9.53,\n",
       "         9.71,  14.69,   9.4 ,   8.82,   6.35,   8.65,   9.14,   7.23,\n",
       "         4.02,   5.83,   7.46,   8.68,   9.43,   8.18,   8.53,  10.67,\n",
       "        11.28,   8.22,   4.59,   8.17,   8.04,  11.27,  11.08,  13.2 ,\n",
       "        12.61,   9.61,   6.88,   5.82,  10.25,   4.58,   8.47,   8.45,\n",
       "         5.5 ,  14.02,   8.03,  11.94,   7.34,   6.06,  10.9 ,   6.44,\n",
       "         3.18,  10.66,  11.21,  12.73,  10.28,  12.16,   6.34,   8.15,\n",
       "         5.84,   8.52,   7.5 ,   7.48,   6.21,  11.95,   7.15,   9.63,\n",
       "         7.1 ,   6.91,   6.69,  13.29,  11.46,   7.76,   6.86,   8.16,\n",
       "        12.15,   7.79,   7.99,  10.29,  10.08,  12.53,   7.91,  10.02,\n",
       "         8.61,  14.54,   8.21,   9.09,   4.93,  11.39,  11.88,   5.75,\n",
       "         7.83,   8.59,   7.52,  12.38,   7.21,   5.81,   8.1 ,  11.04,\n",
       "        11.19,   8.55,   8.42,   9.76,   9.87,  10.86,   5.36,  10.03,\n",
       "        11.15,   9.51,   6.22,   2.59,   7.65,   6.45,   9.  ,   6.4 ,\n",
       "         9.94,   5.08,  10.23,  11.36,   6.97,  10.16,   7.88,  11.91,\n",
       "         6.61,  11.55,  11.76,   9.27,   9.29,  11.12,  10.69,   8.8 ,\n",
       "        11.85,   7.14,   8.71,  11.42,   4.94,   9.02,  11.22,   4.97,\n",
       "         9.15,   5.45,   7.27,  12.91,   7.75,  13.46,   6.32,  12.13,\n",
       "        11.97,   6.93,  11.66,   7.42,   6.19,  11.41,  10.33,  10.65,\n",
       "        11.92,   4.77,   4.38,   7.41,  12.1 ,   7.69,   8.78,   9.36,\n",
       "         9.05,  12.7 ,   6.16,   6.05,  10.85,   8.93,   3.48,  10.4 ,\n",
       "         5.05,  10.71,   9.37,   6.75,   8.12,  11.77,  11.49,  11.06,\n",
       "        11.25,  11.03,  10.82,   8.91,   8.57,   8.09,  10.05,  11.7 ,\n",
       "        10.17,   8.74,   5.51,  11.11,   3.29,  10.13,   6.8 ,   8.49,\n",
       "         9.55,  11.02,   9.91,   7.84,  10.62,   9.97,   3.44,   7.35,\n",
       "         9.79,   8.89,   8.14,   6.94,  10.49,  10.57,  10.2 ,   6.29,\n",
       "         8.79,  10.04,  12.41,  15.97,   9.1 ,  11.78,  12.75,  11.07,\n",
       "        12.56,   8.63,   8.02,  10.42,   8.7 ,   9.98,   7.62,   8.33,\n",
       "         6.59,  13.12,  10.46,   6.63,   8.32,   9.04,   9.28,  10.76,\n",
       "         9.64,  11.44,   6.48,  10.81,  12.66,  11.34,   8.75,  13.05,\n",
       "        11.48,  14.04,  13.47,   5.63,   6.6 ,   9.72,  11.68,   6.41,\n",
       "         9.32,  12.95,  13.37,   9.62,   6.03,   8.25,   8.26,  11.96,\n",
       "         9.9 ,   9.23,   5.58,   7.22,   6.64,  12.29,  12.93,  11.32,\n",
       "         6.85,   8.88,   7.03,   8.48,   3.59,   5.86,   6.23,   7.61,\n",
       "         7.66,  13.63,   7.9 ,  11.82,   7.47,   6.08,   8.4 ,   5.74,\n",
       "        10.94,  10.35,  10.68,   4.34,   8.73,   5.14,   8.24,   9.99,\n",
       "        13.93,   8.64,  11.43,   5.79,   9.2 ,  10.14,  12.11,   7.53,\n",
       "        12.46,   8.46,   8.95,   9.84,  10.8 ,  11.23,  10.15,   9.21,\n",
       "        14.46,   6.67,  12.83,   9.66,   9.59,  10.48,   8.36,   4.84,\n",
       "        10.54,   8.39,   7.43,   9.06,   8.94,  11.13,   8.87,   8.5 ,\n",
       "         7.6 ,  10.73,   9.56,  10.77,   7.73,   3.47,  11.86,   8.11,\n",
       "         9.78,   9.42,   9.65,   7.  ,   7.39,   9.88,   6.56,   5.92,\n",
       "         6.95,  15.71,   8.06,   4.86,   7.8 ,   8.58,  10.06,   5.21,\n",
       "         6.92,   6.15,  13.49,   9.38,  12.62,  12.26,   8.19,  11.65,\n",
       "        11.62,  10.83,   7.92,   7.33,  13.01,  13.26,  12.22,  11.58,\n",
       "         5.97,  10.99,   8.38,   9.17,   8.08,   5.71,   3.41,  12.63,\n",
       "        11.79,  12.96,   7.64,   6.58,  10.84,  10.22,   6.52,   5.55,\n",
       "         7.63,   5.11,   5.89,  10.78,   3.05,  11.89,   8.97,  10.44,\n",
       "        10.5 ,   9.35,   5.66,  11.09,   9.83,   5.44,  10.11,   6.39,\n",
       "        11.93,   8.62,  12.06,   6.02,   8.85,   5.25,   8.66,   6.73,\n",
       "        10.21,  11.59,  13.87,   7.77,  10.39,   5.54,   6.62,  13.33,\n",
       "         6.24,  12.59,   6.3 ,   6.79,   8.28,   9.03,   8.07,   5.52,\n",
       "        12.14,  10.59,   7.54,   7.67,   5.47,   8.81,   8.51,  13.45,\n",
       "         8.77,   6.43,  12.01,  12.08,   7.07,   6.51,   6.84,   9.48,\n",
       "        13.78,  11.54,  11.67,   8.13,  10.79,   7.13,   4.72,   4.64,\n",
       "         8.96,  13.03,   6.07,   3.51,   6.83,   6.12,   9.31,   9.58,\n",
       "         4.68,   5.32,   9.26,  11.52,   9.11,  10.55,  11.47,   9.3 ,\n",
       "        13.82,   8.44,   5.77,  10.96,  11.74,   8.9 ,  10.47,   7.85,\n",
       "        10.92,   4.74,   9.74,  10.43,   9.96,  10.18,   9.54,   7.89,\n",
       "        12.36,   8.54,  10.07,   9.46,   7.3 ,  11.16,   9.16,  10.19,\n",
       "         5.99,  10.88,   5.8 ,   7.19,   4.55,   8.31,   8.01,  14.43,\n",
       "         8.3 ,  14.3 ,   6.53,   8.2 ,  11.31,  13.  ,   6.42,   4.24,\n",
       "         7.44,   7.51,  13.1 ,   9.49,   6.14,   8.76,   6.65,  10.56,\n",
       "         6.72,   8.29,  12.09,   5.39,   2.96,   7.59,   7.24,   4.28,\n",
       "         9.7 ,   8.83,  13.3 ,  11.37,   9.33,   5.01,   3.26,  11.71,\n",
       "         8.43,   9.68,  15.56,   9.8 ,   3.61,   6.96,  11.61,  12.81,\n",
       "        10.87,  13.84,   5.03,   5.17,   2.03,  10.34,   9.34,   7.95,\n",
       "        10.09,   9.95,   7.11,   9.22,   6.13,  11.05,   9.89,   9.39,\n",
       "        14.06,  10.26,  13.31,  15.43,  16.39,   6.27,  10.64,  11.5 ,\n",
       "        12.48,   8.27,  13.53,  10.36,  12.24,   8.69,  10.52,   9.07,\n",
       "        11.51,   9.25,   8.72,   6.78,   8.6 ,  11.84,   5.78,   5.85,\n",
       "        12.3 ,   5.76,  12.07,   9.6 ,   8.84,  12.39,  10.1 ,   9.73,\n",
       "         2.85,   6.66,   2.45,   5.28,  11.73,  10.75,   7.74,   6.76,\n",
       "         6.  ,   7.58,  13.69,   7.93,   7.68,   9.75,   4.96,   5.49,\n",
       "        11.83,   7.18,   9.19,   7.7 ,   7.25,  10.74,   4.27,  13.8 ,\n",
       "         9.12,   4.75,   7.78,  11.63,   7.55,   2.25,   9.45,   9.86,\n",
       "         7.71,   4.95,   7.4 ,  11.17,  11.33,   6.82,  13.7 ,   1.97,\n",
       "        10.89,  12.77,  10.31,   5.23,   5.27,   9.41,   6.09,  10.61,\n",
       "         7.29,   4.23,   7.57,   3.67,  12.69,  14.5 ,   5.95,   7.87,\n",
       "         5.96,   5.94,  12.23,   4.9 ,  12.33,   6.89,   9.67,  12.68,\n",
       "        12.87,   3.7 ,   6.04,  13.13,  15.74,  11.87,   4.7 ,   4.67,\n",
       "         7.05,   5.42,   4.09,   5.73,   9.47,   8.05,   6.87,   3.71,\n",
       "        15.86,   7.49,  11.69,   6.46,  10.45,  12.9 ,   5.41,  11.26,\n",
       "         1.04,   6.49,   6.37,  12.21,   6.77,  12.65,   7.86,   9.44,\n",
       "         4.3 ,   7.38,   5.02,  10.63,   2.86,  17.19,   8.67,   8.37,\n",
       "         6.9 ,  10.93,  10.38,   7.36,  10.27,  10.95,   6.11,   4.45,\n",
       "        11.9 ,  15.01,  12.84,   7.45,   6.98,  11.72,   7.56,  11.38,\n",
       "        10.  ,   4.42,   9.81,   5.56,   6.01,  10.12,  12.4 ,  16.99,\n",
       "         5.68,  11.64,   3.78,   7.82,   9.85,  13.74,  12.71,  10.98,\n",
       "        10.01,   9.52,   7.31,   8.35,  11.35,   9.5 ,  14.03,   3.2 ,\n",
       "         7.72,  13.22,  10.7 ,   8.99,  10.6 ,  13.02,   9.77,  12.58,\n",
       "        12.35,  12.2 ,  11.4 ,  13.91,   3.57,  14.65,  12.28,   5.13,\n",
       "        10.72,  12.86,  14.  ,   7.12,  12.17,   4.71,   6.28,   8.  ,\n",
       "         7.01,   5.91,   5.2 ,  12.  ,  12.02,  12.88,   7.28,   5.4 ,\n",
       "        12.04,   5.24,  10.3 ,  10.41,  13.41,  12.72,   9.08,   7.08,\n",
       "        13.5 ,   5.35,  12.45,   5.3 ,  10.32,   5.15,  12.67,   5.22,\n",
       "         5.57,   3.94,   4.41,  13.27,  10.24,   4.25,  12.89,   5.72,\n",
       "        12.5 ,  11.29,   3.25,  11.53,   9.82,   7.26,   4.1 ,  10.37,\n",
       "         4.98,   6.74,  12.52,  14.56,   8.34,   3.82,   3.86,  13.97,\n",
       "        11.57,   6.5 ,  13.58,  14.32,  13.75,  11.14,  14.18,   9.13,\n",
       "         4.46,   4.83,   9.69,  14.13,   7.16,   7.98,  13.66,  14.78,\n",
       "        11.2 ,   9.93,  11.  ,   5.29,   9.92,   4.29,  11.1 ,  10.51,\n",
       "        12.49,   4.04,  12.94,   7.09,   6.71,   7.94,   5.31,   5.98,\n",
       "         7.2 ,  14.82,  13.21,  12.32,  10.58,   4.92,   6.2 ,   4.47,\n",
       "        11.98,   6.18,   7.81,   4.54,   5.37,   7.17,   5.33,  14.1 ,\n",
       "         5.7 ,  12.18,   8.98,   5.1 ,  14.67,  13.95,  16.55,  11.18,\n",
       "         4.44,   4.73,   2.55,   6.31,   2.43,   9.24,   7.37,  13.42,\n",
       "        12.42,  11.8 ,  14.45,   2.89,  13.23,  12.6 ,  13.18,  12.19,\n",
       "        14.81,   6.55,  11.3 ,  12.27,  13.98,   8.23,  15.49,   6.47,\n",
       "        13.48,  13.59,  13.25,  17.77,  13.9 ,   3.97,  11.56,  14.08,\n",
       "        13.6 ,   6.26,   4.61,  12.76,  15.76,   6.38,   3.6 ,  12.8 ,\n",
       "         5.9 ,   7.97,   5.  ,  10.97,   5.88,  12.34,  12.03,  14.97,\n",
       "        15.06,  12.85,   6.54,  11.24,  12.64,   7.06,   5.38,  13.14,\n",
       "         3.99,   3.32,   4.51,   4.12,   3.93,   2.4 ,  11.75,   4.03,\n",
       "        15.85,   6.81,  14.25,  14.09,  16.42,   6.7 ,  12.74,   2.76,\n",
       "        12.12,   6.99,   6.68,  11.81,   7.96,   5.06,  13.16,   2.13,\n",
       "        13.17,   5.12,   5.65,  12.37,  10.53])"
      ]
     },
     "execution_count": 23,
     "metadata": {},
     "output_type": "execute_result"
    }
   ],
   "source": [
    "churn_train['total_night_charge'].unique()"
   ]
  },
  {
   "cell_type": "code",
   "execution_count": 24,
   "metadata": {},
   "outputs": [
    {
     "data": {
      "text/plain": [
       "array([ 10. ,  13.7,  12.2,   6.6,  10.1,   6.3,   7.5,   7.1,   8.7,\n",
       "        11.2,  12.7,   9.1,  12.3,  13.1,   5.4,  13.8,   8.1,  13. ,\n",
       "        10.6,   5.7,   9.5,   7.7,  10.3,  15.5,  14.7,  11.1,  14.2,\n",
       "        12.6,  11.8,   8.3,  14.5,  10.5,   9.4,  14.6,   9.2,   3.5,\n",
       "         8.5,  13.2,   7.4,   8.8,  11. ,   7.8,   6.8,  11.4,   9.3,\n",
       "         9.7,  10.2,   8. ,   5.8,  12.1,  12. ,  11.6,   8.2,   6.2,\n",
       "         7.3,   6.1,  11.7,  15. ,   9.8,  12.4,   8.6,  10.9,  13.9,\n",
       "         8.9,   7.9,   5.3,   4.4,  12.5,  11.3,   9. ,   9.6,  13.3,\n",
       "        20. ,   7.2,   6.4,  14.1,  14.3,   6.9,  11.5,  15.8,  12.8,\n",
       "        16.2,   0. ,  11.9,   9.9,   8.4,  10.8,  13.4,  10.7,  17.6,\n",
       "         4.7,   2.7,  13.5,  12.9,  14.4,  10.4,   6.7,  15.4,   4.5,\n",
       "         6.5,  15.6,   5.9,  18.9,   7.6,   5. ,   7. ,  14. ,  18. ,\n",
       "        16. ,  14.8,   3.7,   2. ,   4.8,  15.3,   6. ,  13.6,  17.2,\n",
       "        17.5,   5.6,  18.2,   3.6,  16.5,   4.6,   5.1,   4.1,  16.3,\n",
       "        14.9,  16.4,  16.7,   1.3,  15.2,  15.1,  15.9,   5.5,  16.1,\n",
       "         4. ,  16.9,   5.2,   4.2,  15.7,  17. ,   3.9,   3.8,   2.2,\n",
       "        17.1,   4.9,  17.9,  17.3,  18.4,  17.8,   4.3,   2.9,   3.1,\n",
       "         3.3,   2.6,   3.4,   1.1,  18.3,  16.6,   2.1,   2.4,   2.5])"
      ]
     },
     "execution_count": 24,
     "metadata": {},
     "output_type": "execute_result"
    }
   ],
   "source": [
    "churn_train['total_intl_minutes'].unique()"
   ]
  },
  {
   "cell_type": "code",
   "execution_count": 25,
   "metadata": {},
   "outputs": [
    {
     "data": {
      "text/plain": [
       "array([ 3,  5,  7,  6,  4,  2,  9, 19,  1, 10, 15,  8, 11,  0, 12, 13, 18,\n",
       "       14, 16, 20, 17], dtype=int64)"
      ]
     },
     "execution_count": 25,
     "metadata": {},
     "output_type": "execute_result"
    }
   ],
   "source": [
    "churn_train['total_intl_calls'].unique()"
   ]
  },
  {
   "cell_type": "code",
   "execution_count": 26,
   "metadata": {},
   "outputs": [
    {
     "data": {
      "text/plain": [
       "array([ 2.7 ,  3.7 ,  3.29,  1.78,  2.73,  1.7 ,  2.03,  1.92,  2.35,\n",
       "        3.02,  3.43,  2.46,  3.32,  3.54,  1.46,  3.73,  2.19,  3.51,\n",
       "        2.86,  1.54,  2.57,  2.08,  2.78,  4.19,  3.97,  3.  ,  3.83,\n",
       "        3.4 ,  3.19,  2.24,  3.92,  2.84,  2.54,  3.94,  2.48,  0.95,\n",
       "        2.3 ,  3.56,  2.  ,  2.38,  2.97,  2.11,  1.84,  3.08,  2.51,\n",
       "        2.62,  2.75,  2.16,  1.57,  3.27,  3.24,  3.13,  2.21,  1.67,\n",
       "        1.97,  1.65,  3.16,  4.05,  2.65,  3.35,  2.32,  2.94,  3.75,\n",
       "        2.4 ,  2.13,  1.43,  1.19,  3.38,  3.05,  2.43,  2.59,  3.59,\n",
       "        5.4 ,  1.94,  1.73,  3.81,  3.86,  1.86,  3.11,  4.27,  3.46,\n",
       "        4.37,  0.  ,  3.21,  2.67,  2.27,  2.92,  3.62,  2.89,  4.75,\n",
       "        1.27,  0.73,  3.65,  3.48,  3.89,  2.81,  1.81,  4.16,  1.22,\n",
       "        1.76,  4.21,  1.59,  5.1 ,  2.05,  1.35,  1.89,  3.78,  4.86,\n",
       "        4.32,  4.  ,  1.  ,  0.54,  1.3 ,  4.13,  1.62,  3.67,  4.64,\n",
       "        4.73,  1.51,  4.91,  0.97,  4.46,  1.24,  1.38,  1.11,  4.4 ,\n",
       "        4.02,  4.43,  4.51,  0.35,  4.1 ,  4.08,  4.29,  1.49,  4.35,\n",
       "        1.08,  4.56,  1.4 ,  1.13,  4.24,  4.59,  1.05,  1.03,  0.59,\n",
       "        4.62,  1.32,  4.83,  4.67,  4.97,  4.81,  1.16,  0.78,  0.84,\n",
       "        0.89,  0.7 ,  0.92,  0.3 ,  4.94,  4.48,  0.57,  0.65,  0.68])"
      ]
     },
     "execution_count": 26,
     "metadata": {},
     "output_type": "execute_result"
    }
   ],
   "source": [
    "churn_train['total_intl_charge'].unique()"
   ]
  },
  {
   "cell_type": "code",
   "execution_count": 27,
   "metadata": {},
   "outputs": [
    {
     "data": {
      "text/plain": [
       "array([1, 0, 2, 3, 4, 5, 7, 9, 6, 8], dtype=int64)"
      ]
     },
     "execution_count": 27,
     "metadata": {},
     "output_type": "execute_result"
    }
   ],
   "source": [
    "churn_train['number_customer_service_calls'].unique()"
   ]
  },
  {
   "cell_type": "code",
   "execution_count": 28,
   "metadata": {},
   "outputs": [
    {
     "data": {
      "text/plain": [
       "array(['no', 'yes'], dtype=object)"
      ]
     },
     "execution_count": 28,
     "metadata": {},
     "output_type": "execute_result"
    }
   ],
   "source": [
    "churn_train['churn'].unique()"
   ]
  },
  {
   "cell_type": "markdown",
   "metadata": {},
   "source": [
    "# Naive Bayes"
   ]
  },
  {
   "cell_type": "code",
   "execution_count": 29,
   "metadata": {
    "collapsed": true
   },
   "outputs": [],
   "source": [
    "# create naive bayes model\n",
    "from sklearn import naive_bayes\n",
    "\n",
    "model_naive = naive_bayes.MultinomialNB()"
   ]
  },
  {
   "cell_type": "markdown",
   "metadata": {},
   "source": [
    "=> Dataset중 일부가 object라서 오류가 났기 때문에 object를 mapping하여 number로 변환"
   ]
  },
  {
   "cell_type": "code",
   "execution_count": 59,
   "metadata": {
    "collapsed": true
   },
   "outputs": [],
   "source": [
    "# change object to number\n",
    "import numpy as np\n",
    "\n",
    "class_mapping1 = {label:idx for idx, label in enumerate(np.unique(churn_train['state']))}\n",
    "churn_train['state'] = churn_train['state'].map(class_mapping1)\n",
    "\n",
    "class_mapping2 = {label:idx for idx, label in enumerate(np.unique(churn_train['area_code']))}\n",
    "churn_train['area_code'] = churn_train['area_code'].map(class_mapping2)\n",
    "\n",
    "class_mapping3 = {label:idx for idx, label in enumerate(np.unique(churn_train['international_plan']))}\n",
    "churn_train['international_plan'] = churn_train['international_plan'].map(class_mapping3)\n",
    "\n",
    "class_mapping4 = {label:idx for idx, label in enumerate(np.unique(churn_train['voice_mail_plan']))}\n",
    "churn_train['voice_mail_plan'] = churn_train['voice_mail_plan'].map(class_mapping4)\n",
    "\n",
    "class_mapping5 = {label:idx for idx, label in enumerate(np.unique(churn_train['churn']))}\n",
    "churn_train['churn'] = churn_train['churn'].map(class_mapping5)"
   ]
  },
  {
   "cell_type": "code",
   "execution_count": 60,
   "metadata": {
    "collapsed": true
   },
   "outputs": [],
   "source": [
    "X_train = churn_train.drop('churn', axis=1)\n",
    "Y_train = churn_train['churn']"
   ]
  },
  {
   "cell_type": "code",
   "execution_count": 61,
   "metadata": {},
   "outputs": [
    {
     "data": {
      "text/plain": [
       "MultinomialNB(alpha=1.0, class_prior=None, fit_prior=True)"
      ]
     },
     "execution_count": 61,
     "metadata": {},
     "output_type": "execute_result"
    }
   ],
   "source": [
    "# train\n",
    "model_naive.fit(X_train, Y_train)"
   ]
  },
  {
   "cell_type": "code",
   "execution_count": 62,
   "metadata": {},
   "outputs": [
    {
     "data": {
      "text/plain": [
       "0.63726372637263728"
      ]
     },
     "execution_count": 62,
     "metadata": {},
     "output_type": "execute_result"
    }
   ],
   "source": [
    "# model train result\n",
    "model_naive.score(X_train, Y_train)"
   ]
  },
  {
   "cell_type": "markdown",
   "metadata": {},
   "source": [
    "=> 학습률이 63%"
   ]
  },
  {
   "cell_type": "code",
   "execution_count": 68,
   "metadata": {
    "collapsed": true
   },
   "outputs": [],
   "source": [
    "# predict\n",
    "class_mapping1 = {label:idx for idx, label in enumerate(np.unique(churn_test['state']))}\n",
    "churn_test['state'] = churn_test['state'].map(class_mapping1)\n",
    "\n",
    "class_mapping2 = {label:idx for idx, label in enumerate(np.unique(churn_test['area_code']))}\n",
    "churn_test['area_code'] = churn_test['area_code'].map(class_mapping2)\n",
    "\n",
    "class_mapping3 = {label:idx for idx, label in enumerate(np.unique(churn_test['international_plan']))}\n",
    "churn_test['international_plan'] = churn_test['international_plan'].map(class_mapping3)\n",
    "\n",
    "class_mapping4 = {label:idx for idx, label in enumerate(np.unique(churn_test['voice_mail_plan']))}\n",
    "churn_test['voice_mail_plan'] = churn_test['voice_mail_plan'].map(class_mapping4)\n",
    "\n",
    "class_mapping5 = {label:idx for idx, label in enumerate(np.unique(churn_test['churn']))}\n",
    "churn_test['churn'] = churn_test['churn'].map(class_mapping5)\n",
    "\n",
    "X_test = churn_test.drop('churn', axis=1)"
   ]
  },
  {
   "cell_type": "code",
   "execution_count": 105,
   "metadata": {},
   "outputs": [
    {
     "name": "stdout",
     "output_type": "stream",
     "text": [
      "61.307738452309536 %\n"
     ]
    }
   ],
   "source": [
    "submission = pd.DataFrame({'churn1':model_naive.predict(X_test), 'churn2':Y_test})\n",
    "submission = submission[['churn1', 'churn2']]\n",
    "submission.to_csv('sub.csv',index=False)\n",
    "\n",
    "churn = pd.read_csv(\"./data/Churn_Dataset/sub.csv\")\n",
    "t=0\n",
    "s=0\n",
    "for i in range(len(churn)):\n",
    "    t=t+1\n",
    "    if(churn['churn2'][i] == churn['churn1'][i]):\n",
    "        s=s+1\n",
    "print(s/t * 100, \"%\")"
   ]
  },
  {
   "cell_type": "markdown",
   "metadata": {},
   "source": [
    "=> 61%의 정확성을 갖는다"
   ]
  },
  {
   "cell_type": "markdown",
   "metadata": {},
   "source": [
    "# 요소별 개별 학습"
   ]
  },
  {
   "cell_type": "code",
   "execution_count": 3,
   "metadata": {},
   "outputs": [
    {
     "name": "stdout",
     "output_type": "stream",
     "text": [
      "86.5626874625075 %\n"
     ]
    }
   ],
   "source": [
    "from sklearn import naive_bayes\n",
    "import numpy as np\n",
    "import pandas as pd\n",
    "\n",
    "churn_train = pd.read_csv(\"./data/Churn_Dataset/train.csv\")\n",
    "churn_test = pd.read_csv(\"./data/Churn_Dataset/test.csv\")\n",
    "\n",
    "model_naive = naive_bayes.MultinomialNB()\n",
    "\n",
    "class_mapping1 = {label:idx for idx, label in enumerate(np.unique(churn_train['state']))}\n",
    "churn_train['state'] = churn_train['state'].map(class_mapping1)\n",
    "class_mapping2 = {label:idx for idx, label in enumerate(np.unique(churn_train['area_code']))}\n",
    "churn_train['area_code'] = churn_train['area_code'].map(class_mapping2)\n",
    "class_mapping3 = {label:idx for idx, label in enumerate(np.unique(churn_train['international_plan']))}\n",
    "churn_train['international_plan'] = churn_train['international_plan'].map(class_mapping3)\n",
    "class_mapping4 = {label:idx for idx, label in enumerate(np.unique(churn_train['voice_mail_plan']))}\n",
    "churn_train['voice_mail_plan'] = churn_train['voice_mail_plan'].map(class_mapping4)\n",
    "class_mapping5 = {label:idx for idx, label in enumerate(np.unique(churn_train['churn']))}\n",
    "churn_train['churn'] = churn_train['churn'].map(class_mapping5)\n",
    "\n",
    "X_train = churn_train.drop(['churn', 'state', 'account_length', 'area_code', 'international_plan', 'voice_mail_plan', 'number_vmail_messages', 'total_day_minutes', 'total_day_calls', 'total_day_charge', 'total_eve_minutes', 'total_eve_calls', 'total_eve_charge', 'total_night_minutes', 'total_night_calls', 'total_night_charge', 'total_intl_minutes', 'total_intl_calls', 'total_intl_charge'], axis=1)\n",
    "Y_train = churn_train['churn']\n",
    "\n",
    "model_naive.fit(X_train, Y_train)\n",
    "model_naive.score(X_train, Y_train)\n",
    "\n",
    "class_mapping1 = {label:idx for idx, label in enumerate(np.unique(churn_test['state']))}\n",
    "churn_test['state'] = churn_test['state'].map(class_mapping1)\n",
    "class_mapping2 = {label:idx for idx, label in enumerate(np.unique(churn_test['area_code']))}\n",
    "churn_test['area_code'] = churn_test['area_code'].map(class_mapping2)\n",
    "class_mapping3 = {label:idx for idx, label in enumerate(np.unique(churn_test['international_plan']))}\n",
    "churn_test['international_plan'] = churn_test['international_plan'].map(class_mapping3)\n",
    "class_mapping4 = {label:idx for idx, label in enumerate(np.unique(churn_test['voice_mail_plan']))}\n",
    "churn_test['voice_mail_plan'] = churn_test['voice_mail_plan'].map(class_mapping4)\n",
    "class_mapping5 = {label:idx for idx, label in enumerate(np.unique(churn_test['churn']))}\n",
    "churn_test['churn'] = churn_test['churn'].map(class_mapping5)\n",
    "\n",
    "X_test = churn_test.drop(['churn', 'state', 'account_length', 'area_code', 'international_plan', 'voice_mail_plan', 'number_vmail_messages', 'total_day_minutes', 'total_day_calls', 'total_day_charge', 'total_eve_minutes', 'total_eve_calls', 'total_eve_charge', 'total_night_minutes', 'total_night_calls', 'total_night_charge', 'total_intl_minutes', 'total_intl_calls', 'total_intl_charge'], axis=1)\n",
    "Y_test = churn_test['churn']\n",
    "\n",
    "submission = pd.DataFrame({'churn1':model_naive.predict(X_test), 'churn2':Y_test})\n",
    "submission = submission[['churn1', 'churn2']]\n",
    "submission.to_csv('./data/Churn_Dataset/sub.csv',index=False)\n",
    "\n",
    "churn = pd.read_csv(\"./data/Churn_Dataset/sub.csv\")\n",
    "t=0\n",
    "s=0\n",
    "for i in range(len(churn)):\n",
    "    t=t+1\n",
    "    if(churn['churn2'][i] == churn['churn1'][i]):\n",
    "        s=s+1\n",
    "print(s/t * 100, \"%\")"
   ]
  },
  {
   "cell_type": "markdown",
   "metadata": {},
   "source": [
    "<p>=> 'number_customer_service_calls'만 학습한 결과 학습률은 86%</p>\n",
    "<p>=> 정확도가 상승하였음</p>"
   ]
  },
  {
   "cell_type": "code",
   "execution_count": 4,
   "metadata": {},
   "outputs": [
    {
     "name": "stdout",
     "output_type": "stream",
     "text": [
      "86.5626874625075 %\n"
     ]
    }
   ],
   "source": [
    "from sklearn import naive_bayes\n",
    "import numpy as np\n",
    "import pandas as pd\n",
    "\n",
    "churn_train = pd.read_csv(\"./data/Churn_Dataset/train.csv\")\n",
    "churn_test = pd.read_csv(\"./data/Churn_Dataset/test.csv\")\n",
    "\n",
    "model_naive = naive_bayes.MultinomialNB()\n",
    "\n",
    "class_mapping1 = {label:idx for idx, label in enumerate(np.unique(churn_train['state']))}\n",
    "churn_train['state'] = churn_train['state'].map(class_mapping1)\n",
    "class_mapping2 = {label:idx for idx, label in enumerate(np.unique(churn_train['area_code']))}\n",
    "churn_train['area_code'] = churn_train['area_code'].map(class_mapping2)\n",
    "class_mapping3 = {label:idx for idx, label in enumerate(np.unique(churn_train['international_plan']))}\n",
    "churn_train['international_plan'] = churn_train['international_plan'].map(class_mapping3)\n",
    "class_mapping4 = {label:idx for idx, label in enumerate(np.unique(churn_train['voice_mail_plan']))}\n",
    "churn_train['voice_mail_plan'] = churn_train['voice_mail_plan'].map(class_mapping4)\n",
    "class_mapping5 = {label:idx for idx, label in enumerate(np.unique(churn_train['churn']))}\n",
    "churn_train['churn'] = churn_train['churn'].map(class_mapping5)\n",
    "\n",
    "X_train = churn_train.drop(['churn', 'state', 'account_length', 'area_code', 'international_plan', 'voice_mail_plan', 'number_vmail_messages', 'total_day_minutes', 'total_day_calls', 'total_day_charge', 'total_eve_minutes', 'total_eve_calls', 'total_eve_charge', 'total_night_minutes', 'total_night_calls', 'total_night_charge', 'total_intl_minutes', 'total_intl_calls', 'number_customer_service_calls'], axis=1)\n",
    "Y_train = churn_train['churn']\n",
    "\n",
    "model_naive.fit(X_train, Y_train)\n",
    "model_naive.score(X_train, Y_train)\n",
    "\n",
    "class_mapping1 = {label:idx for idx, label in enumerate(np.unique(churn_test['state']))}\n",
    "churn_test['state'] = churn_test['state'].map(class_mapping1)\n",
    "class_mapping2 = {label:idx for idx, label in enumerate(np.unique(churn_test['area_code']))}\n",
    "churn_test['area_code'] = churn_test['area_code'].map(class_mapping2)\n",
    "class_mapping3 = {label:idx for idx, label in enumerate(np.unique(churn_test['international_plan']))}\n",
    "churn_test['international_plan'] = churn_test['international_plan'].map(class_mapping3)\n",
    "class_mapping4 = {label:idx for idx, label in enumerate(np.unique(churn_test['voice_mail_plan']))}\n",
    "churn_test['voice_mail_plan'] = churn_test['voice_mail_plan'].map(class_mapping4)\n",
    "class_mapping5 = {label:idx for idx, label in enumerate(np.unique(churn_test['churn']))}\n",
    "churn_test['churn'] = churn_test['churn'].map(class_mapping5)\n",
    "\n",
    "X_test = churn_test.drop(['churn', 'state', 'account_length', 'area_code', 'international_plan', 'voice_mail_plan', 'number_vmail_messages', 'total_day_minutes', 'total_day_calls', 'total_day_charge', 'total_eve_minutes', 'total_eve_calls', 'total_eve_charge', 'total_night_minutes', 'total_night_calls', 'total_night_charge', 'total_intl_minutes', 'total_intl_calls', 'number_customer_service_calls'], axis=1)\n",
    "Y_test = churn_test['churn']\n",
    "\n",
    "submission = pd.DataFrame({'churn1':model_naive.predict(X_test), 'churn2':Y_test})\n",
    "submission = submission[['churn1', 'churn2']]\n",
    "submission.to_csv('./data/Churn_Dataset/sub.csv',index=False)\n",
    "\n",
    "churn = pd.read_csv(\"./data/Churn_Dataset/sub.csv\")\n",
    "t=0\n",
    "s=0\n",
    "for i in range(len(churn)):\n",
    "    t=t+1\n",
    "    if(churn['churn2'][i] == churn['churn1'][i]):\n",
    "        s=s+1\n",
    "print(s/t * 100, \"%\")"
   ]
  },
  {
   "cell_type": "code",
   "execution_count": 5,
   "metadata": {},
   "outputs": [
    {
     "data": {
      "text/plain": [
       "0.85508550855085508"
      ]
     },
     "execution_count": 5,
     "metadata": {},
     "output_type": "execute_result"
    }
   ],
   "source": [
    "from sklearn import naive_bayes\n",
    "import numpy as np\n",
    "import pandas as pd\n",
    "\n",
    "churn_train = pd.read_csv(\"./data/Churn_Dataset/train.csv\")\n",
    "churn_test = pd.read_csv(\"./data/Churn_Dataset/test.csv\")\n",
    "\n",
    "model_naive = naive_bayes.MultinomialNB()\n",
    "\n",
    "class_mapping1 = {label:idx for idx, label in enumerate(np.unique(churn_train['state']))}\n",
    "churn_train['state'] = churn_train['state'].map(class_mapping1)\n",
    "class_mapping2 = {label:idx for idx, label in enumerate(np.unique(churn_train['area_code']))}\n",
    "churn_train['area_code'] = churn_train['area_code'].map(class_mapping2)\n",
    "class_mapping3 = {label:idx for idx, label in enumerate(np.unique(churn_train['international_plan']))}\n",
    "churn_train['international_plan'] = churn_train['international_plan'].map(class_mapping3)\n",
    "class_mapping4 = {label:idx for idx, label in enumerate(np.unique(churn_train['voice_mail_plan']))}\n",
    "churn_train['voice_mail_plan'] = churn_train['voice_mail_plan'].map(class_mapping4)\n",
    "class_mapping5 = {label:idx for idx, label in enumerate(np.unique(churn_train['churn']))}\n",
    "churn_train['churn'] = churn_train['churn'].map(class_mapping5)\n",
    "\n",
    "X_train = churn_train.drop(['churn', 'state', 'account_length', 'area_code', 'international_plan', 'voice_mail_plan', 'number_vmail_messages', 'total_day_minutes', 'total_day_calls', 'total_day_charge', 'total_eve_minutes', 'total_eve_calls', 'total_eve_charge', 'total_night_minutes', 'total_night_calls', 'total_night_charge', 'total_intl_minutes', 'number_customer_service_calls', 'total_intl_charge'], axis=1)\n",
    "Y_train = churn_train['churn']\n",
    "\n",
    "model_naive.fit(X_train, Y_train)\n",
    "model_naive.score(X_train, Y_train)"
   ]
  },
  {
   "cell_type": "markdown",
   "metadata": {},
   "source": [
    "=> 학습률이 85%"
   ]
  },
  {
   "cell_type": "code",
   "execution_count": 6,
   "metadata": {},
   "outputs": [
    {
     "data": {
      "text/plain": [
       "0.85508550855085508"
      ]
     },
     "execution_count": 6,
     "metadata": {},
     "output_type": "execute_result"
    }
   ],
   "source": [
    "from sklearn import naive_bayes\n",
    "import numpy as np\n",
    "import pandas as pd\n",
    "\n",
    "churn_train = pd.read_csv(\"./data/Churn_Dataset/train.csv\")\n",
    "churn_test = pd.read_csv(\"./data/Churn_Dataset/test.csv\")\n",
    "\n",
    "model_naive = naive_bayes.MultinomialNB()\n",
    "\n",
    "class_mapping1 = {label:idx for idx, label in enumerate(np.unique(churn_train['state']))}\n",
    "churn_train['state'] = churn_train['state'].map(class_mapping1)\n",
    "class_mapping2 = {label:idx for idx, label in enumerate(np.unique(churn_train['area_code']))}\n",
    "churn_train['area_code'] = churn_train['area_code'].map(class_mapping2)\n",
    "class_mapping3 = {label:idx for idx, label in enumerate(np.unique(churn_train['international_plan']))}\n",
    "churn_train['international_plan'] = churn_train['international_plan'].map(class_mapping3)\n",
    "class_mapping4 = {label:idx for idx, label in enumerate(np.unique(churn_train['voice_mail_plan']))}\n",
    "churn_train['voice_mail_plan'] = churn_train['voice_mail_plan'].map(class_mapping4)\n",
    "class_mapping5 = {label:idx for idx, label in enumerate(np.unique(churn_train['churn']))}\n",
    "churn_train['churn'] = churn_train['churn'].map(class_mapping5)\n",
    "\n",
    "X_train = churn_train.drop(['churn', 'state', 'account_length', 'area_code', 'international_plan', 'voice_mail_plan', 'number_vmail_messages', 'total_day_minutes', 'total_day_calls', 'total_day_charge', 'total_eve_minutes', 'total_eve_calls', 'total_eve_charge', 'total_night_minutes', 'total_night_calls', 'number_customer_service_calls', 'total_intl_minutes', 'total_intl_calls', 'total_intl_charge'], axis=1)\n",
    "Y_train = churn_train['churn']\n",
    "\n",
    "model_naive.fit(X_train, Y_train)\n",
    "model_naive.score(X_train, Y_train)"
   ]
  },
  {
   "cell_type": "code",
   "execution_count": 7,
   "metadata": {},
   "outputs": [
    {
     "data": {
      "text/plain": [
       "0.85508550855085508"
      ]
     },
     "execution_count": 7,
     "metadata": {},
     "output_type": "execute_result"
    }
   ],
   "source": [
    "from sklearn import naive_bayes\n",
    "import numpy as np\n",
    "import pandas as pd\n",
    "\n",
    "churn_train = pd.read_csv(\"./data/Churn_Dataset/train.csv\")\n",
    "churn_test = pd.read_csv(\"./data/Churn_Dataset/test.csv\")\n",
    "\n",
    "model_naive = naive_bayes.MultinomialNB()\n",
    "\n",
    "class_mapping1 = {label:idx for idx, label in enumerate(np.unique(churn_train['state']))}\n",
    "churn_train['state'] = churn_train['state'].map(class_mapping1)\n",
    "class_mapping2 = {label:idx for idx, label in enumerate(np.unique(churn_train['area_code']))}\n",
    "churn_train['area_code'] = churn_train['area_code'].map(class_mapping2)\n",
    "class_mapping3 = {label:idx for idx, label in enumerate(np.unique(churn_train['international_plan']))}\n",
    "churn_train['international_plan'] = churn_train['international_plan'].map(class_mapping3)\n",
    "class_mapping4 = {label:idx for idx, label in enumerate(np.unique(churn_train['voice_mail_plan']))}\n",
    "churn_train['voice_mail_plan'] = churn_train['voice_mail_plan'].map(class_mapping4)\n",
    "class_mapping5 = {label:idx for idx, label in enumerate(np.unique(churn_train['churn']))}\n",
    "churn_train['churn'] = churn_train['churn'].map(class_mapping5)\n",
    "\n",
    "X_train = churn_train.drop(['churn', 'state', 'account_length', 'area_code', 'international_plan', 'voice_mail_plan', 'number_vmail_messages', 'total_day_minutes', 'total_day_calls', 'total_day_charge', 'total_eve_minutes', 'total_eve_calls', 'total_eve_charge', 'total_night_minutes', 'number_customer_service_calls', 'total_night_charge', 'total_intl_minutes', 'total_intl_calls', 'total_intl_charge'], axis=1)\n",
    "Y_train = churn_train['churn']\n",
    "\n",
    "model_naive.fit(X_train, Y_train)\n",
    "model_naive.score(X_train, Y_train)"
   ]
  },
  {
   "cell_type": "markdown",
   "metadata": {},
   "source": [
    "# Decision Tree Model"
   ]
  },
  {
   "cell_type": "code",
   "execution_count": 3,
   "metadata": {},
   "outputs": [
    {
     "name": "stderr",
     "output_type": "stream",
     "text": [
      "C:\\Anaconda3\\lib\\site-packages\\ipykernel_launcher.py:16: SettingWithCopyWarning: \n",
      "A value is trying to be set on a copy of a slice from a DataFrame\n",
      "\n",
      "See the caveats in the documentation: http://pandas.pydata.org/pandas-docs/stable/indexing.html#indexing-view-versus-copy\n",
      "  app.launch_new_instance()\n",
      "C:\\Anaconda3\\lib\\site-packages\\ipykernel_launcher.py:14: SettingWithCopyWarning: \n",
      "A value is trying to be set on a copy of a slice from a DataFrame\n",
      "\n",
      "See the caveats in the documentation: http://pandas.pydata.org/pandas-docs/stable/indexing.html#indexing-view-versus-copy\n",
      "  \n",
      "C:\\Anaconda3\\lib\\site-packages\\ipykernel_launcher.py:23: SettingWithCopyWarning: \n",
      "A value is trying to be set on a copy of a slice from a DataFrame\n",
      "\n",
      "See the caveats in the documentation: http://pandas.pydata.org/pandas-docs/stable/indexing.html#indexing-view-versus-copy\n",
      "C:\\Anaconda3\\lib\\site-packages\\ipykernel_launcher.py:21: SettingWithCopyWarning: \n",
      "A value is trying to be set on a copy of a slice from a DataFrame\n",
      "\n",
      "See the caveats in the documentation: http://pandas.pydata.org/pandas-docs/stable/indexing.html#indexing-view-versus-copy\n",
      "C:\\Anaconda3\\lib\\site-packages\\ipykernel_launcher.py:28: SettingWithCopyWarning: \n",
      "A value is trying to be set on a copy of a slice from a DataFrame\n",
      "\n",
      "See the caveats in the documentation: http://pandas.pydata.org/pandas-docs/stable/indexing.html#indexing-view-versus-copy\n",
      "C:\\Anaconda3\\lib\\site-packages\\ipykernel_launcher.py:30: SettingWithCopyWarning: \n",
      "A value is trying to be set on a copy of a slice from a DataFrame\n",
      "\n",
      "See the caveats in the documentation: http://pandas.pydata.org/pandas-docs/stable/indexing.html#indexing-view-versus-copy\n",
      "C:\\Anaconda3\\lib\\site-packages\\ipykernel_launcher.py:37: SettingWithCopyWarning: \n",
      "A value is trying to be set on a copy of a slice from a DataFrame\n",
      "\n",
      "See the caveats in the documentation: http://pandas.pydata.org/pandas-docs/stable/indexing.html#indexing-view-versus-copy\n",
      "C:\\Anaconda3\\lib\\site-packages\\ipykernel_launcher.py:35: SettingWithCopyWarning: \n",
      "A value is trying to be set on a copy of a slice from a DataFrame\n",
      "\n",
      "See the caveats in the documentation: http://pandas.pydata.org/pandas-docs/stable/indexing.html#indexing-view-versus-copy\n",
      "C:\\Anaconda3\\lib\\site-packages\\ipykernel_launcher.py:44: SettingWithCopyWarning: \n",
      "A value is trying to be set on a copy of a slice from a DataFrame\n",
      "\n",
      "See the caveats in the documentation: http://pandas.pydata.org/pandas-docs/stable/indexing.html#indexing-view-versus-copy\n",
      "C:\\Anaconda3\\lib\\site-packages\\ipykernel_launcher.py:42: SettingWithCopyWarning: \n",
      "A value is trying to be set on a copy of a slice from a DataFrame\n",
      "\n",
      "See the caveats in the documentation: http://pandas.pydata.org/pandas-docs/stable/indexing.html#indexing-view-versus-copy\n",
      "C:\\Anaconda3\\lib\\site-packages\\ipykernel_launcher.py:51: SettingWithCopyWarning: \n",
      "A value is trying to be set on a copy of a slice from a DataFrame\n",
      "\n",
      "See the caveats in the documentation: http://pandas.pydata.org/pandas-docs/stable/indexing.html#indexing-view-versus-copy\n",
      "C:\\Anaconda3\\lib\\site-packages\\ipykernel_launcher.py:49: SettingWithCopyWarning: \n",
      "A value is trying to be set on a copy of a slice from a DataFrame\n",
      "\n",
      "See the caveats in the documentation: http://pandas.pydata.org/pandas-docs/stable/indexing.html#indexing-view-versus-copy\n"
     ]
    }
   ],
   "source": [
    "import pandas as pd\n",
    "from IPython.display import display\n",
    "\n",
    "train = pd.read_csv(\"train.csv\")\n",
    "test = pd.read_csv(\"test.csv\")\n",
    "\n",
    "# data preprocessing\n",
    "from operator import eq\n",
    "import numpy as np\n",
    "\n",
    "# Yes = 1 , No = 0 \n",
    "for i in range(0, len(train[\"international_plan\"])):\n",
    "    if eq(train[\"international_plan\"][i], \"yes\"):\n",
    "        train[\"international_plan\"][i] = 1\n",
    "    elif eq(train[\"international_plan\"][i], \"no\"):\n",
    "        train[\"international_plan\"][i] = 0\n",
    "train[\"international_plan\"] = train[\"international_plan\"].astype(np.float32)\n",
    "\n",
    "for i in range(0, len(test[\"international_plan\"])):\n",
    "    if eq(test[\"international_plan\"][i], \"yes\"):\n",
    "        test[\"international_plan\"][i] = 1\n",
    "    elif eq(test[\"international_plan\"][i], \"no\"):\n",
    "        test[\"international_plan\"][i] = 0\n",
    "test[\"international_plan\"] =test[\"international_plan\"].astype(np.float32)\n",
    "\n",
    "for i in range(0, len(train[\"voice_mail_plan\"])):\n",
    "    if eq(train[\"voice_mail_plan\"][i], \"yes\"):\n",
    "        train[\"voice_mail_plan\"][i] = 1\n",
    "    elif eq(train[\"voice_mail_plan\"][i], \"no\"):\n",
    "        train[\"voice_mail_plan\"][i] = 0\n",
    "train[\"voice_mail_plan\"] = train[\"voice_mail_plan\"].astype(np.float32)\n",
    "\n",
    "for i in range(0, len(test[\"voice_mail_plan\"])):\n",
    "    if eq(test[\"voice_mail_plan\"][i], \"yes\"):\n",
    "        test[\"voice_mail_plan\"][i] = 1\n",
    "    elif eq(test[\"voice_mail_plan\"][i], \"no\"):\n",
    "        test[\"voice_mail_plan\"][i] = 0\n",
    "test[\"voice_mail_plan\"] = test[\"voice_mail_plan\"].astype(np.float32)\n",
    "\n",
    "for i in range(0, len(train[\"churn\"])):\n",
    "    if eq(train[\"churn\"][i], \"yes\"):\n",
    "        train[\"churn\"][i] = 1\n",
    "    elif eq(train[\"churn\"][i], \"no\"):\n",
    "        train[\"churn\"][i] = 0\n",
    "train[\"churn\"] = train[\"churn\"].astype(np.float32)\n",
    "\n",
    "for i in range(0, len(test[\"churn\"])):\n",
    "    if eq(test[\"churn\"][i], \"yes\"):\n",
    "        test[\"churn\"][i] = 1\n",
    "    elif eq(test[\"churn\"][i], \"no\"):\n",
    "        test[\"churn\"][i] = 0\n",
    "test[\"churn\"] = test[\"churn\"].astype(np.float32)"
   ]
  },
  {
   "cell_type": "code",
   "execution_count": 4,
   "metadata": {
    "collapsed": true
   },
   "outputs": [],
   "source": [
    "# 사용자에 대한 기초적 정보 -> Remove\n",
    "train = train.drop([\"state\", \"area_code\"], axis=1)\n",
    "test = test.drop([\"state\", \"area_code\"], axis=1)\n",
    "\n",
    "train_features = train.drop([\"churn\"], axis=1).columns\n",
    "test_features = test.drop([\"churn\"], axis=1).columns"
   ]
  },
  {
   "cell_type": "code",
   "execution_count": 5,
   "metadata": {},
   "outputs": [
    {
     "data": {
      "text/plain": [
       "0.93281343731253752"
      ]
     },
     "execution_count": 5,
     "metadata": {},
     "output_type": "execute_result"
    }
   ],
   "source": [
    "from sklearn import tree\n",
    "\n",
    "dtc = tree.DecisionTreeClassifier(criterion='entropy', random_state=42)\n",
    "dtc.fit(train[train_features], train[\"churn\"])\n",
    "\n",
    "predictions = dtc.predict(test[test_features])\n",
    "dtc.score(test[test_features], test[\"churn\"])"
   ]
  },
  {
   "cell_type": "code",
   "execution_count": 6,
   "metadata": {},
   "outputs": [
    {
     "name": "stdout",
     "output_type": "stream",
     "text": [
      "             precision    recall  f1-score   support\n",
      "\n",
      "        0.0       0.95      0.97      0.96      1443\n",
      "        1.0       0.79      0.69      0.73       224\n",
      "\n",
      "avg / total       0.93      0.93      0.93      1667\n",
      "\n"
     ]
    }
   ],
   "source": [
    "from sklearn.metrics import classification_report, confusion_matrix\n",
    "\n",
    "print(classification_report(test[\"churn\"], predictions))"
   ]
  },
  {
   "cell_type": "code",
   "execution_count": 7,
   "metadata": {},
   "outputs": [
    {
     "name": "stdout",
     "output_type": "stream",
     "text": [
      "[[1401   42]\n",
      " [  70  154]]\n"
     ]
    }
   ],
   "source": [
    "print(confusion_matrix(test[\"churn\"], predictions))"
   ]
  },
  {
   "cell_type": "markdown",
   "metadata": {},
   "source": [
    "=> 대부분의 정답 데이터는 no 에 해당하는 데이터"
   ]
  },
  {
   "cell_type": "markdown",
   "metadata": {},
   "source": [
    "#### 변수의 중요도를 확인"
   ]
  },
  {
   "cell_type": "code",
   "execution_count": 8,
   "metadata": {},
   "outputs": [
    {
     "data": {
      "text/html": [
       "<div>\n",
       "<style>\n",
       "    .dataframe thead tr:only-child th {\n",
       "        text-align: right;\n",
       "    }\n",
       "\n",
       "    .dataframe thead th {\n",
       "        text-align: left;\n",
       "    }\n",
       "\n",
       "    .dataframe tbody tr th {\n",
       "        vertical-align: top;\n",
       "    }\n",
       "</style>\n",
       "<table border=\"1\" class=\"dataframe\">\n",
       "  <thead>\n",
       "    <tr style=\"text-align: right;\">\n",
       "      <th></th>\n",
       "      <th>feature</th>\n",
       "      <th>importance</th>\n",
       "    </tr>\n",
       "  </thead>\n",
       "  <tbody>\n",
       "    <tr>\n",
       "      <th>0</th>\n",
       "      <td>account_length</td>\n",
       "      <td>0.025475</td>\n",
       "    </tr>\n",
       "    <tr>\n",
       "      <th>1</th>\n",
       "      <td>international_plan</td>\n",
       "      <td>0.090145</td>\n",
       "    </tr>\n",
       "    <tr>\n",
       "      <th>2</th>\n",
       "      <td>voice_mail_plan</td>\n",
       "      <td>0.014797</td>\n",
       "    </tr>\n",
       "    <tr>\n",
       "      <th>3</th>\n",
       "      <td>number_vmail_messages</td>\n",
       "      <td>0.033523</td>\n",
       "    </tr>\n",
       "    <tr>\n",
       "      <th>4</th>\n",
       "      <td>total_day_minutes</td>\n",
       "      <td>0.034422</td>\n",
       "    </tr>\n",
       "    <tr>\n",
       "      <th>5</th>\n",
       "      <td>total_day_calls</td>\n",
       "      <td>0.017248</td>\n",
       "    </tr>\n",
       "    <tr>\n",
       "      <th>6</th>\n",
       "      <td>total_day_charge</td>\n",
       "      <td>0.222838</td>\n",
       "    </tr>\n",
       "    <tr>\n",
       "      <th>7</th>\n",
       "      <td>total_eve_minutes</td>\n",
       "      <td>0.080814</td>\n",
       "    </tr>\n",
       "    <tr>\n",
       "      <th>8</th>\n",
       "      <td>total_eve_calls</td>\n",
       "      <td>0.031114</td>\n",
       "    </tr>\n",
       "    <tr>\n",
       "      <th>9</th>\n",
       "      <td>total_eve_charge</td>\n",
       "      <td>0.067007</td>\n",
       "    </tr>\n",
       "    <tr>\n",
       "      <th>10</th>\n",
       "      <td>total_night_minutes</td>\n",
       "      <td>0.049527</td>\n",
       "    </tr>\n",
       "    <tr>\n",
       "      <th>11</th>\n",
       "      <td>total_night_calls</td>\n",
       "      <td>0.045648</td>\n",
       "    </tr>\n",
       "    <tr>\n",
       "      <th>12</th>\n",
       "      <td>total_night_charge</td>\n",
       "      <td>0.034077</td>\n",
       "    </tr>\n",
       "    <tr>\n",
       "      <th>13</th>\n",
       "      <td>total_intl_minutes</td>\n",
       "      <td>0.015290</td>\n",
       "    </tr>\n",
       "    <tr>\n",
       "      <th>14</th>\n",
       "      <td>total_intl_calls</td>\n",
       "      <td>0.053367</td>\n",
       "    </tr>\n",
       "    <tr>\n",
       "      <th>15</th>\n",
       "      <td>total_intl_charge</td>\n",
       "      <td>0.084273</td>\n",
       "    </tr>\n",
       "    <tr>\n",
       "      <th>16</th>\n",
       "      <td>number_customer_service_calls</td>\n",
       "      <td>0.100435</td>\n",
       "    </tr>\n",
       "  </tbody>\n",
       "</table>\n",
       "</div>"
      ],
      "text/plain": [
       "                          feature  importance\n",
       "0                  account_length    0.025475\n",
       "1              international_plan    0.090145\n",
       "2                 voice_mail_plan    0.014797\n",
       "3           number_vmail_messages    0.033523\n",
       "4               total_day_minutes    0.034422\n",
       "5                 total_day_calls    0.017248\n",
       "6                total_day_charge    0.222838\n",
       "7               total_eve_minutes    0.080814\n",
       "8                 total_eve_calls    0.031114\n",
       "9                total_eve_charge    0.067007\n",
       "10            total_night_minutes    0.049527\n",
       "11              total_night_calls    0.045648\n",
       "12             total_night_charge    0.034077\n",
       "13             total_intl_minutes    0.015290\n",
       "14               total_intl_calls    0.053367\n",
       "15              total_intl_charge    0.084273\n",
       "16  number_customer_service_calls    0.100435"
      ]
     },
     "metadata": {},
     "output_type": "display_data"
    }
   ],
   "source": [
    "train_feature_importance = pd.concat([pd.DataFrame(train[train_features].columns), pd.DataFrame(dtc.feature_importances_)], axis=1)\n",
    "train_feature_importance.columns = [\"feature\", \"importance\"]\n",
    "display(train_feature_importance)"
   ]
  },
  {
   "cell_type": "code",
   "execution_count": 9,
   "metadata": {},
   "outputs": [
    {
     "data": {
      "text/plain": [
       "feature       total_day_charge\n",
       "importance            0.222838\n",
       "Name: 6, dtype: object"
      ]
     },
     "metadata": {},
     "output_type": "display_data"
    }
   ],
   "source": [
    "max = train_feature_importance[\"importance\"].max()\n",
    "for i in range(0, len(train_feature_importance[\"importance\"])):\n",
    "    if train_feature_importance[\"importance\"][i] == max:\n",
    "        display(train_feature_importance.loc[i])\n",
    "        break "
   ]
  },
  {
   "cell_type": "code",
   "execution_count": 10,
   "metadata": {},
   "outputs": [
    {
     "data": {
      "text/plain": [
       "feature       voice_mail_plan\n",
       "importance          0.0147973\n",
       "Name: 2, dtype: object"
      ]
     },
     "metadata": {},
     "output_type": "display_data"
    }
   ],
   "source": [
    "min = train_feature_importance[\"importance\"].min()\n",
    "for i in range(0, len(train_feature_importance[\"importance\"])):\n",
    "    if train_feature_importance[\"importance\"][i] == min:\n",
    "        display(train_feature_importance.loc[i])\n",
    "        break "
   ]
  },
  {
   "cell_type": "code",
   "execution_count": 11,
   "metadata": {},
   "outputs": [
    {
     "data": {
      "text/html": [
       "<div>\n",
       "<style>\n",
       "    .dataframe thead tr:only-child th {\n",
       "        text-align: right;\n",
       "    }\n",
       "\n",
       "    .dataframe thead th {\n",
       "        text-align: left;\n",
       "    }\n",
       "\n",
       "    .dataframe tbody tr th {\n",
       "        vertical-align: top;\n",
       "    }\n",
       "</style>\n",
       "<table border=\"1\" class=\"dataframe\">\n",
       "  <thead>\n",
       "    <tr style=\"text-align: right;\">\n",
       "      <th></th>\n",
       "      <th>feature</th>\n",
       "      <th>importance</th>\n",
       "    </tr>\n",
       "  </thead>\n",
       "  <tbody>\n",
       "    <tr>\n",
       "      <th>6</th>\n",
       "      <td>total_day_charge</td>\n",
       "      <td>0.222838</td>\n",
       "    </tr>\n",
       "    <tr>\n",
       "      <th>16</th>\n",
       "      <td>number_customer_service_calls</td>\n",
       "      <td>0.100435</td>\n",
       "    </tr>\n",
       "    <tr>\n",
       "      <th>1</th>\n",
       "      <td>international_plan</td>\n",
       "      <td>0.090145</td>\n",
       "    </tr>\n",
       "    <tr>\n",
       "      <th>15</th>\n",
       "      <td>total_intl_charge</td>\n",
       "      <td>0.084273</td>\n",
       "    </tr>\n",
       "    <tr>\n",
       "      <th>7</th>\n",
       "      <td>total_eve_minutes</td>\n",
       "      <td>0.080814</td>\n",
       "    </tr>\n",
       "    <tr>\n",
       "      <th>9</th>\n",
       "      <td>total_eve_charge</td>\n",
       "      <td>0.067007</td>\n",
       "    </tr>\n",
       "    <tr>\n",
       "      <th>14</th>\n",
       "      <td>total_intl_calls</td>\n",
       "      <td>0.053367</td>\n",
       "    </tr>\n",
       "    <tr>\n",
       "      <th>10</th>\n",
       "      <td>total_night_minutes</td>\n",
       "      <td>0.049527</td>\n",
       "    </tr>\n",
       "    <tr>\n",
       "      <th>11</th>\n",
       "      <td>total_night_calls</td>\n",
       "      <td>0.045648</td>\n",
       "    </tr>\n",
       "    <tr>\n",
       "      <th>4</th>\n",
       "      <td>total_day_minutes</td>\n",
       "      <td>0.034422</td>\n",
       "    </tr>\n",
       "    <tr>\n",
       "      <th>12</th>\n",
       "      <td>total_night_charge</td>\n",
       "      <td>0.034077</td>\n",
       "    </tr>\n",
       "    <tr>\n",
       "      <th>3</th>\n",
       "      <td>number_vmail_messages</td>\n",
       "      <td>0.033523</td>\n",
       "    </tr>\n",
       "    <tr>\n",
       "      <th>8</th>\n",
       "      <td>total_eve_calls</td>\n",
       "      <td>0.031114</td>\n",
       "    </tr>\n",
       "    <tr>\n",
       "      <th>0</th>\n",
       "      <td>account_length</td>\n",
       "      <td>0.025475</td>\n",
       "    </tr>\n",
       "    <tr>\n",
       "      <th>5</th>\n",
       "      <td>total_day_calls</td>\n",
       "      <td>0.017248</td>\n",
       "    </tr>\n",
       "    <tr>\n",
       "      <th>13</th>\n",
       "      <td>total_intl_minutes</td>\n",
       "      <td>0.015290</td>\n",
       "    </tr>\n",
       "    <tr>\n",
       "      <th>2</th>\n",
       "      <td>voice_mail_plan</td>\n",
       "      <td>0.014797</td>\n",
       "    </tr>\n",
       "  </tbody>\n",
       "</table>\n",
       "</div>"
      ],
      "text/plain": [
       "                          feature  importance\n",
       "6                total_day_charge    0.222838\n",
       "16  number_customer_service_calls    0.100435\n",
       "1              international_plan    0.090145\n",
       "15              total_intl_charge    0.084273\n",
       "7               total_eve_minutes    0.080814\n",
       "9                total_eve_charge    0.067007\n",
       "14               total_intl_calls    0.053367\n",
       "10            total_night_minutes    0.049527\n",
       "11              total_night_calls    0.045648\n",
       "4               total_day_minutes    0.034422\n",
       "12             total_night_charge    0.034077\n",
       "3           number_vmail_messages    0.033523\n",
       "8                 total_eve_calls    0.031114\n",
       "0                  account_length    0.025475\n",
       "5                 total_day_calls    0.017248\n",
       "13             total_intl_minutes    0.015290\n",
       "2                 voice_mail_plan    0.014797"
      ]
     },
     "metadata": {},
     "output_type": "display_data"
    }
   ],
   "source": [
    "train_feature_importance.sort_values(by=[\"importance\"], axis=0, inplace=True, ascending=False)\n",
    "display(train_feature_importance)"
   ]
  },
  {
   "cell_type": "markdown",
   "metadata": {},
   "source": [
    "=> 낮 시간의 통화시간 및 그에 대한 분당 요금, 서비스응대 순으로 분류에 영향을 미쳤으며, 반대로 저녁 및 밤 시간의 통화 시간 및 분당 요금 순으로 기여하지 못함"
   ]
  },
  {
   "cell_type": "markdown",
   "metadata": {},
   "source": [
    "# K-fold Validation"
   ]
  },
  {
   "cell_type": "code",
   "execution_count": 12,
   "metadata": {
    "collapsed": true
   },
   "outputs": [],
   "source": [
    "from sklearn.model_selection import KFold\n",
    "from sklearn.metrics import r2_score\n",
    "cv = KFold(n_splits=10)\n",
    "\n",
    "dtc = tree.DecisionTreeClassifier(criterion='entropy', random_state=42)\n",
    "scores = []\n",
    "for train_index, test_index in cv.split(train):\n",
    "    X_train, X_test = train.loc[train_index][train_features], train.loc[test_index][train_features]\n",
    "    Y_train, Y_test = train.loc[train_index][\"churn\"], train.loc[test_index][\"churn\"]\n",
    "    \n",
    "    dtc.fit(X_train, Y_train)   \n",
    "    scores.append(dtc.score(X_test,Y_test))    "
   ]
  },
  {
   "cell_type": "code",
   "execution_count": 13,
   "metadata": {},
   "outputs": [
    {
     "data": {
      "text/plain": [
       "[0.91317365269461082,\n",
       " 0.92814371257485029,\n",
       " 0.93113772455089816,\n",
       " 0.93993993993993996,\n",
       " 0.93393393393393398,\n",
       " 0.92192192192192191,\n",
       " 0.92792792792792789,\n",
       " 0.93993993993993996,\n",
       " 0.90090090090090091,\n",
       " 0.94894894894894899]"
      ]
     },
     "metadata": {},
     "output_type": "display_data"
    }
   ],
   "source": [
    "display(scores)"
   ]
  },
  {
   "cell_type": "code",
   "execution_count": 14,
   "metadata": {},
   "outputs": [
    {
     "data": {
      "text/html": [
       "<div>\n",
       "<style>\n",
       "    .dataframe thead tr:only-child th {\n",
       "        text-align: right;\n",
       "    }\n",
       "\n",
       "    .dataframe thead th {\n",
       "        text-align: left;\n",
       "    }\n",
       "\n",
       "    .dataframe tbody tr th {\n",
       "        vertical-align: top;\n",
       "    }\n",
       "</style>\n",
       "<table border=\"1\" class=\"dataframe\">\n",
       "  <thead>\n",
       "    <tr style=\"text-align: right;\">\n",
       "      <th></th>\n",
       "      <th>Predicted No</th>\n",
       "      <th>Predicted Yes</th>\n",
       "    </tr>\n",
       "  </thead>\n",
       "  <tbody>\n",
       "    <tr>\n",
       "      <th>Actual No</th>\n",
       "      <td>1382</td>\n",
       "      <td>61</td>\n",
       "    </tr>\n",
       "    <tr>\n",
       "      <th>Actual Yes</th>\n",
       "      <td>70</td>\n",
       "      <td>154</td>\n",
       "    </tr>\n",
       "  </tbody>\n",
       "</table>\n",
       "</div>"
      ],
      "text/plain": [
       "            Predicted No  Predicted Yes\n",
       "Actual No           1382             61\n",
       "Actual Yes            70            154"
      ]
     },
     "metadata": {},
     "output_type": "display_data"
    }
   ],
   "source": [
    "import matplotlib.pyplot as plt\n",
    "from sklearn.metrics import confusion_matrix\n",
    "from sklearn.metrics import roc_curve\n",
    "\n",
    "pred = dtc.predict(test[test_features])\n",
    "get_ipython().magic('matplotlib inline')\n",
    "confusion_matrix = pd.DataFrame(\n",
    "    confusion_matrix(test[\"churn\"], pred), \n",
    "    columns=[\"Predicted No\", \"Predicted Yes\"], \n",
    "    index=[\"Actual No\", \"Actual Yes\"]\n",
    ")\n",
    "display(confusion_matrix)"
   ]
  },
  {
   "cell_type": "code",
   "execution_count": 15,
   "metadata": {},
   "outputs": [
    {
     "data": {
      "image/png": "[encoded data removed]",
      "text/plain": [
       "<Figure size 432x288 with 1 Axes>"
      ]
     },
     "metadata": {},
     "output_type": "display_data"
    }
   ],
   "source": [
    "probs = dtc.predict_proba(test[test_features])\n",
    "fpr, tpr, threshold = roc_curve(test[\"churn\"], probs[:,1])\n",
    "plt.title('Receiver Operating Characteristic')\n",
    "plt.plot(fpr, tpr, 'b')\n",
    "plt.plot([0, 1], [0, 1],'r--')\n",
    "plt.xlim([0, 1])\n",
    "plt.ylim([0, 1])\n",
    "plt.ylabel('True Positive Rate')\n",
    "plt.xlabel('False Positive Rate')\n",
    "plt.show()"
   ]
  },
  {
   "cell_type": "code",
   "execution_count": 16,
   "metadata": {},
   "outputs": [
    {
     "name": "stdout",
     "output_type": "stream",
     "text": [
      "Accuracy:  0.921415716857\n"
     ]
    }
   ],
   "source": [
    "score = dtc.score(test[test_features], test[\"churn\"])\n",
    "print(\"Accuracy: \", score)"
   ]
  },
  {
   "cell_type": "code",
   "execution_count": 17,
   "metadata": {},
   "outputs": [
    {
     "data": {
      "text/html": [
       "<div>\n",
       "<style>\n",
       "    .dataframe thead tr:only-child th {\n",
       "        text-align: right;\n",
       "    }\n",
       "\n",
       "    .dataframe thead th {\n",
       "        text-align: left;\n",
       "    }\n",
       "\n",
       "    .dataframe tbody tr th {\n",
       "        vertical-align: top;\n",
       "    }\n",
       "</style>\n",
       "<table border=\"1\" class=\"dataframe\">\n",
       "  <thead>\n",
       "    <tr style=\"text-align: right;\">\n",
       "      <th></th>\n",
       "      <th>feature</th>\n",
       "      <th>importance</th>\n",
       "    </tr>\n",
       "  </thead>\n",
       "  <tbody>\n",
       "    <tr>\n",
       "      <th>6</th>\n",
       "      <td>total_day_charge</td>\n",
       "      <td>0.182263</td>\n",
       "    </tr>\n",
       "    <tr>\n",
       "      <th>7</th>\n",
       "      <td>total_eve_minutes</td>\n",
       "      <td>0.110116</td>\n",
       "    </tr>\n",
       "    <tr>\n",
       "      <th>16</th>\n",
       "      <td>number_customer_service_calls</td>\n",
       "      <td>0.109132</td>\n",
       "    </tr>\n",
       "    <tr>\n",
       "      <th>1</th>\n",
       "      <td>international_plan</td>\n",
       "      <td>0.092140</td>\n",
       "    </tr>\n",
       "    <tr>\n",
       "      <th>15</th>\n",
       "      <td>total_intl_charge</td>\n",
       "      <td>0.088862</td>\n",
       "    </tr>\n",
       "    <tr>\n",
       "      <th>10</th>\n",
       "      <td>total_night_minutes</td>\n",
       "      <td>0.062090</td>\n",
       "    </tr>\n",
       "    <tr>\n",
       "      <th>14</th>\n",
       "      <td>total_intl_calls</td>\n",
       "      <td>0.061604</td>\n",
       "    </tr>\n",
       "    <tr>\n",
       "      <th>4</th>\n",
       "      <td>total_day_minutes</td>\n",
       "      <td>0.059277</td>\n",
       "    </tr>\n",
       "    <tr>\n",
       "      <th>9</th>\n",
       "      <td>total_eve_charge</td>\n",
       "      <td>0.044590</td>\n",
       "    </tr>\n",
       "    <tr>\n",
       "      <th>2</th>\n",
       "      <td>voice_mail_plan</td>\n",
       "      <td>0.039162</td>\n",
       "    </tr>\n",
       "    <tr>\n",
       "      <th>12</th>\n",
       "      <td>total_night_charge</td>\n",
       "      <td>0.031502</td>\n",
       "    </tr>\n",
       "    <tr>\n",
       "      <th>8</th>\n",
       "      <td>total_eve_calls</td>\n",
       "      <td>0.027807</td>\n",
       "    </tr>\n",
       "    <tr>\n",
       "      <th>11</th>\n",
       "      <td>total_night_calls</td>\n",
       "      <td>0.025914</td>\n",
       "    </tr>\n",
       "    <tr>\n",
       "      <th>0</th>\n",
       "      <td>account_length</td>\n",
       "      <td>0.025460</td>\n",
       "    </tr>\n",
       "    <tr>\n",
       "      <th>5</th>\n",
       "      <td>total_day_calls</td>\n",
       "      <td>0.020827</td>\n",
       "    </tr>\n",
       "    <tr>\n",
       "      <th>13</th>\n",
       "      <td>total_intl_minutes</td>\n",
       "      <td>0.012864</td>\n",
       "    </tr>\n",
       "    <tr>\n",
       "      <th>3</th>\n",
       "      <td>number_vmail_messages</td>\n",
       "      <td>0.006392</td>\n",
       "    </tr>\n",
       "  </tbody>\n",
       "</table>\n",
       "</div>"
      ],
      "text/plain": [
       "                          feature  importance\n",
       "6                total_day_charge    0.182263\n",
       "7               total_eve_minutes    0.110116\n",
       "16  number_customer_service_calls    0.109132\n",
       "1              international_plan    0.092140\n",
       "15              total_intl_charge    0.088862\n",
       "10            total_night_minutes    0.062090\n",
       "14               total_intl_calls    0.061604\n",
       "4               total_day_minutes    0.059277\n",
       "9                total_eve_charge    0.044590\n",
       "2                 voice_mail_plan    0.039162\n",
       "12             total_night_charge    0.031502\n",
       "8                 total_eve_calls    0.027807\n",
       "11              total_night_calls    0.025914\n",
       "0                  account_length    0.025460\n",
       "5                 total_day_calls    0.020827\n",
       "13             total_intl_minutes    0.012864\n",
       "3           number_vmail_messages    0.006392"
      ]
     },
     "metadata": {},
     "output_type": "display_data"
    }
   ],
   "source": [
    "# 중요도\n",
    "test_feature_importance = pd.concat([pd.DataFrame(test[test_features].columns), pd.DataFrame(dtc.feature_importances_)], axis=1)\n",
    "test_feature_importance.columns = [\"feature\", \"importance\"]\n",
    "test_feature_importance.sort_values(by=[\"importance\"], axis=0, inplace=True, ascending=False)\n",
    "display(test_feature_importance)"
   ]
  },
  {
   "cell_type": "markdown",
   "metadata": {},
   "source": [
    "=> dataset 자체에 No 에 해당하는 값이 많아 정확도와 특이도의 수치가 높음"
   ]
  },
  {
   "cell_type": "markdown",
   "metadata": {},
   "source": [
    "- 개선해야되는 서비스\n",
    "  - number_vmail_messages\t\n",
    "  - total_day_calls\n",
    "  - total_eve_calls\n",
    "  - 등등..."
   ]
  },
  {
   "cell_type": "code",
   "execution_count": null,
   "metadata": {
    "collapsed": true
   },
   "outputs": [],
   "source": []
  }
 ],
 "metadata": {
  "kernelspec": {
   "display_name": "Python 3",
   "language": "python",
   "name": "python3"
  },
  "language_info": {
   "codemirror_mode": {
    "name": "ipython",
    "version": 3
   },
   "file_extension": ".py",
   "mimetype": "text/x-python",
   "name": "python",
   "nbconvert_exporter": "python",
   "pygments_lexer": "ipython3",
   "version": "3.6.6"
  }
 },
 "nbformat": 4,
 "nbformat_minor": 2
}
